{
 "cells": [
  {
   "cell_type": "markdown",
   "id": "7e655241",
   "metadata": {},
   "source": [
    "# Тестовое задание на позицию Аналитик данных - в коммерческий департамент\n",
    "Исп.: Ю.В. Сулковская"
   ]
  },
  {
   "cell_type": "markdown",
   "id": "1d84e1df",
   "metadata": {},
   "source": [
    "Задание:\\\n",
    "На выходе требуется получить таблицу в формате .xlsx содержащую информацию о том, сколько цветомоделей (уникальных сцепок Article & Color), а также сколько товара в штуках должно поступить на склад в каждый из месяцев 2021 года, для каждой товарной категории в разбивке по цветам."
   ]
  },
  {
   "cell_type": "markdown",
   "id": "a9eff2fb",
   "metadata": {},
   "source": [
    "Препаки имеют по несколько дат прибытия на склад, но для расчета месяца необходимо учесть только первую дату прибытия."
   ]
  },
  {
   "cell_type": "markdown",
   "id": "a5625721",
   "metadata": {},
   "source": [
    "Кол-во штук в заказе считается следующим образом: Order Pcs = Boxes quantity * Pcs."
   ]
  },
  {
   "cell_type": "code",
   "execution_count": 1,
   "id": "0184db92",
   "metadata": {},
   "outputs": [],
   "source": [
    "import pandas as pd\n",
    "import matplotlib.pyplot as plt\n",
    "import plotly.express as px"
   ]
  },
  {
   "cell_type": "code",
   "execution_count": 2,
   "id": "07b222a1",
   "metadata": {},
   "outputs": [],
   "source": [
    "#изменяет формат графиков на png, для возможности отображения в GitHub.\n",
    "#*необходим только для публикации. В рамках анализа лучше не использовать, для возможности просмотра точных цифр на графиках.\n",
    "import plotly.io as pio\n",
    "pio.renderers.default = 'png'"
   ]
  },
  {
   "cell_type": "markdown",
   "id": "344f50cc",
   "metadata": {},
   "source": [
    "# Предобработка данных"
   ]
  },
  {
   "cell_type": "markdown",
   "id": "71289652",
   "metadata": {},
   "source": [
    "Считаем таблицы с данными о товарах:"
   ]
  },
  {
   "cell_type": "code",
   "execution_count": 3,
   "id": "e3e608c2",
   "metadata": {},
   "outputs": [],
   "source": [
    "article_description = pd.read_csv(\"C:/Users/Julia/HEXProjects/datasets/clothes_store/article description.csv\",sep = ';')"
   ]
  },
  {
   "cell_type": "code",
   "execution_count": 4,
   "id": "fe98a12c",
   "metadata": {},
   "outputs": [
    {
     "data": {
      "text/html": [
       "<div>\n",
       "<style scoped>\n",
       "    .dataframe tbody tr th:only-of-type {\n",
       "        vertical-align: middle;\n",
       "    }\n",
       "\n",
       "    .dataframe tbody tr th {\n",
       "        vertical-align: top;\n",
       "    }\n",
       "\n",
       "    .dataframe thead th {\n",
       "        text-align: right;\n",
       "    }\n",
       "</style>\n",
       "<table border=\"1\" class=\"dataframe\">\n",
       "  <thead>\n",
       "    <tr style=\"text-align: right;\">\n",
       "      <th></th>\n",
       "      <th>Article</th>\n",
       "      <th>Product Description</th>\n",
       "    </tr>\n",
       "  </thead>\n",
       "  <tbody>\n",
       "    <tr>\n",
       "      <th>0</th>\n",
       "      <td>Art1</td>\n",
       "      <td>Trousers</td>\n",
       "    </tr>\n",
       "    <tr>\n",
       "      <th>1</th>\n",
       "      <td>Art2</td>\n",
       "      <td>Jeans</td>\n",
       "    </tr>\n",
       "    <tr>\n",
       "      <th>2</th>\n",
       "      <td>Art3</td>\n",
       "      <td>Dress</td>\n",
       "    </tr>\n",
       "    <tr>\n",
       "      <th>3</th>\n",
       "      <td>Art4</td>\n",
       "      <td>Trousers</td>\n",
       "    </tr>\n",
       "    <tr>\n",
       "      <th>4</th>\n",
       "      <td>Art5</td>\n",
       "      <td>Trousers</td>\n",
       "    </tr>\n",
       "  </tbody>\n",
       "</table>\n",
       "</div>"
      ],
      "text/plain": [
       "  Article Product Description\n",
       "0    Art1            Trousers\n",
       "1    Art2               Jeans\n",
       "2    Art3               Dress\n",
       "3    Art4            Trousers\n",
       "4    Art5            Trousers"
      ]
     },
     "execution_count": 4,
     "metadata": {},
     "output_type": "execute_result"
    }
   ],
   "source": [
    "article_description.head()"
   ]
  },
  {
   "cell_type": "code",
   "execution_count": 5,
   "id": "eacda5a3",
   "metadata": {},
   "outputs": [
    {
     "data": {
      "text/plain": [
       "(12999, 2)"
      ]
     },
     "execution_count": 5,
     "metadata": {},
     "output_type": "execute_result"
    }
   ],
   "source": [
    "article_description.shape"
   ]
  },
  {
   "cell_type": "markdown",
   "id": "e331b496",
   "metadata": {},
   "source": [
    "Файл содержит описательную информацию о товарах:\\\n",
    "Article - номер артикула товара, по которому сформирован заказ\\\n",
    "Product Description - описание товара"
   ]
  },
  {
   "cell_type": "code",
   "execution_count": 6,
   "id": "bd91e148",
   "metadata": {},
   "outputs": [],
   "source": [
    "prepack_description = pd.read_csv(\"C:/Users/Julia/HEXProjects/datasets/clothes_store/prepack description.csv\", sep =';')"
   ]
  },
  {
   "cell_type": "code",
   "execution_count": 7,
   "id": "944c320a",
   "metadata": {},
   "outputs": [
    {
     "data": {
      "text/html": [
       "<div>\n",
       "<style scoped>\n",
       "    .dataframe tbody tr th:only-of-type {\n",
       "        vertical-align: middle;\n",
       "    }\n",
       "\n",
       "    .dataframe tbody tr th {\n",
       "        vertical-align: top;\n",
       "    }\n",
       "\n",
       "    .dataframe thead th {\n",
       "        text-align: right;\n",
       "    }\n",
       "</style>\n",
       "<table border=\"1\" class=\"dataframe\">\n",
       "  <thead>\n",
       "    <tr style=\"text-align: right;\">\n",
       "      <th></th>\n",
       "      <th>Prepack</th>\n",
       "      <th>Article</th>\n",
       "      <th>Color</th>\n",
       "      <th>Pcs</th>\n",
       "    </tr>\n",
       "  </thead>\n",
       "  <tbody>\n",
       "    <tr>\n",
       "      <th>0</th>\n",
       "      <td>Prep1</td>\n",
       "      <td>Art1</td>\n",
       "      <td>red</td>\n",
       "      <td>4</td>\n",
       "    </tr>\n",
       "    <tr>\n",
       "      <th>1</th>\n",
       "      <td>Prep1</td>\n",
       "      <td>Art1</td>\n",
       "      <td>white</td>\n",
       "      <td>2</td>\n",
       "    </tr>\n",
       "    <tr>\n",
       "      <th>2</th>\n",
       "      <td>Prep1</td>\n",
       "      <td>Art1</td>\n",
       "      <td>pink</td>\n",
       "      <td>6</td>\n",
       "    </tr>\n",
       "    <tr>\n",
       "      <th>3</th>\n",
       "      <td>Prep2</td>\n",
       "      <td>Art2</td>\n",
       "      <td>red</td>\n",
       "      <td>2</td>\n",
       "    </tr>\n",
       "    <tr>\n",
       "      <th>4</th>\n",
       "      <td>Prep2</td>\n",
       "      <td>Art2</td>\n",
       "      <td>white</td>\n",
       "      <td>6</td>\n",
       "    </tr>\n",
       "  </tbody>\n",
       "</table>\n",
       "</div>"
      ],
      "text/plain": [
       "  Prepack Article  Color  Pcs\n",
       "0   Prep1    Art1    red    4\n",
       "1   Prep1    Art1  white    2\n",
       "2   Prep1    Art1   pink    6\n",
       "3   Prep2    Art2    red    2\n",
       "4   Prep2    Art2  white    6"
      ]
     },
     "execution_count": 7,
     "metadata": {},
     "output_type": "execute_result"
    }
   ],
   "source": [
    "prepack_description.head()"
   ]
  },
  {
   "cell_type": "code",
   "execution_count": 8,
   "id": "ce0015d8",
   "metadata": {},
   "outputs": [
    {
     "data": {
      "text/plain": [
       "(38997, 4)"
      ]
     },
     "execution_count": 8,
     "metadata": {},
     "output_type": "execute_result"
    }
   ],
   "source": [
    "prepack_description.shape"
   ]
  },
  {
   "cell_type": "markdown",
   "id": "030d59d5",
   "metadata": {},
   "source": [
    "Файл содержит информацию о наполнении каждого из препаков (сколько штук каждого цвета лежит в коробе):\\\n",
    "Prepack - номер препака\\\n",
    "Article - номер артикула товара, по которому сформирован заказ\\\n",
    "Color - цвет товара\\\n",
    "Pcs - кол-во штук в коробе для каждого цвета"
   ]
  },
  {
   "cell_type": "markdown",
   "id": "61524e03",
   "metadata": {},
   "source": [
    "Сгруппируем данные по цвету, препаку и продукту, а также посчитаем артикулы и просуммируем количество товара в коробке:"
   ]
  },
  {
   "cell_type": "code",
   "execution_count": 9,
   "id": "567d57c0",
   "metadata": {},
   "outputs": [],
   "source": [
    "order_info = pd.read_csv(\"C:/Users/Julia/HEXProjects/datasets/clothes_store/order info.csv\", sep =';', parse_dates=['ETA'], dayfirst=True)"
   ]
  },
  {
   "cell_type": "code",
   "execution_count": 10,
   "id": "bacb5298",
   "metadata": {},
   "outputs": [
    {
     "data": {
      "text/html": [
       "<div>\n",
       "<style scoped>\n",
       "    .dataframe tbody tr th:only-of-type {\n",
       "        vertical-align: middle;\n",
       "    }\n",
       "\n",
       "    .dataframe tbody tr th {\n",
       "        vertical-align: top;\n",
       "    }\n",
       "\n",
       "    .dataframe thead th {\n",
       "        text-align: right;\n",
       "    }\n",
       "</style>\n",
       "<table border=\"1\" class=\"dataframe\">\n",
       "  <thead>\n",
       "    <tr style=\"text-align: right;\">\n",
       "      <th></th>\n",
       "      <th>Prepack</th>\n",
       "      <th>Boxes quantity</th>\n",
       "      <th>ETA</th>\n",
       "    </tr>\n",
       "  </thead>\n",
       "  <tbody>\n",
       "    <tr>\n",
       "      <th>0</th>\n",
       "      <td>Prep1</td>\n",
       "      <td>19</td>\n",
       "      <td>2020-02-01</td>\n",
       "    </tr>\n",
       "    <tr>\n",
       "      <th>1</th>\n",
       "      <td>Prep1</td>\n",
       "      <td>50</td>\n",
       "      <td>2020-09-01</td>\n",
       "    </tr>\n",
       "    <tr>\n",
       "      <th>2</th>\n",
       "      <td>Prep2</td>\n",
       "      <td>45</td>\n",
       "      <td>2020-04-01</td>\n",
       "    </tr>\n",
       "    <tr>\n",
       "      <th>3</th>\n",
       "      <td>Prep2</td>\n",
       "      <td>22</td>\n",
       "      <td>2020-12-01</td>\n",
       "    </tr>\n",
       "    <tr>\n",
       "      <th>4</th>\n",
       "      <td>Prep3</td>\n",
       "      <td>9</td>\n",
       "      <td>2020-07-01</td>\n",
       "    </tr>\n",
       "  </tbody>\n",
       "</table>\n",
       "</div>"
      ],
      "text/plain": [
       "  Prepack  Boxes quantity        ETA\n",
       "0   Prep1              19 2020-02-01\n",
       "1   Prep1              50 2020-09-01\n",
       "2   Prep2              45 2020-04-01\n",
       "3   Prep2              22 2020-12-01\n",
       "4   Prep3               9 2020-07-01"
      ]
     },
     "execution_count": 10,
     "metadata": {},
     "output_type": "execute_result"
    }
   ],
   "source": [
    "order_info.head()"
   ]
  },
  {
   "cell_type": "code",
   "execution_count": 11,
   "id": "9102a8e4",
   "metadata": {},
   "outputs": [
    {
     "data": {
      "text/plain": [
       "Prepack                   object\n",
       "Boxes quantity             int64\n",
       "ETA               datetime64[ns]\n",
       "dtype: object"
      ]
     },
     "execution_count": 11,
     "metadata": {},
     "output_type": "execute_result"
    }
   ],
   "source": [
    "order_info.dtypes"
   ]
  },
  {
   "cell_type": "code",
   "execution_count": 12,
   "id": "5eed90bf",
   "metadata": {},
   "outputs": [
    {
     "data": {
      "text/plain": [
       "(28998, 3)"
      ]
     },
     "execution_count": 12,
     "metadata": {},
     "output_type": "execute_result"
    }
   ],
   "source": [
    "order_info.shape"
   ]
  },
  {
   "cell_type": "markdown",
   "id": "7bc2f369",
   "metadata": {},
   "source": [
    "Файл содержит информацию о заказах препаков (коробов):\\\n",
    "Prepack - номер препака\\\n",
    "Boxes quantity - кол-во коробов в заказе\\\n",
    "ETA - дата прибытия заказа на склад"
   ]
  },
  {
   "cell_type": "markdown",
   "id": "abff5640",
   "metadata": {},
   "source": [
    "Отфильтруем только 2021 год:"
   ]
  },
  {
   "cell_type": "code",
   "execution_count": 13,
   "id": "cef886a8",
   "metadata": {},
   "outputs": [],
   "source": [
    "order_info_2021 = order_info[order_info.ETA > '2020-12-01']"
   ]
  },
  {
   "cell_type": "markdown",
   "id": "73f3a71b",
   "metadata": {},
   "source": [
    "Выделим месяц из даты, учитывая, что месяц распологается в конце строки (как день):"
   ]
  },
  {
   "cell_type": "code",
   "execution_count": 14,
   "id": "674d435d",
   "metadata": {},
   "outputs": [
    {
     "name": "stderr",
     "output_type": "stream",
     "text": [
      "C:\\Users\\Julia\\AppData\\Local\\Temp\\ipykernel_15036\\3463843722.py:1: SettingWithCopyWarning:\n",
      "\n",
      "\n",
      "A value is trying to be set on a copy of a slice from a DataFrame.\n",
      "Try using .loc[row_indexer,col_indexer] = value instead\n",
      "\n",
      "See the caveats in the documentation: https://pandas.pydata.org/pandas-docs/stable/user_guide/indexing.html#returning-a-view-versus-a-copy\n",
      "\n"
     ]
    }
   ],
   "source": [
    "order_info_2021['Month'] = order_info_2021.ETA.dt.month"
   ]
  },
  {
   "cell_type": "code",
   "execution_count": 15,
   "id": "5eb7407d",
   "metadata": {},
   "outputs": [
    {
     "data": {
      "text/html": [
       "<div>\n",
       "<style scoped>\n",
       "    .dataframe tbody tr th:only-of-type {\n",
       "        vertical-align: middle;\n",
       "    }\n",
       "\n",
       "    .dataframe tbody tr th {\n",
       "        vertical-align: top;\n",
       "    }\n",
       "\n",
       "    .dataframe thead th {\n",
       "        text-align: right;\n",
       "    }\n",
       "</style>\n",
       "<table border=\"1\" class=\"dataframe\">\n",
       "  <thead>\n",
       "    <tr style=\"text-align: right;\">\n",
       "      <th></th>\n",
       "      <th>Prepack</th>\n",
       "      <th>Boxes quantity</th>\n",
       "      <th>ETA</th>\n",
       "      <th>Month</th>\n",
       "    </tr>\n",
       "  </thead>\n",
       "  <tbody>\n",
       "    <tr>\n",
       "      <th>19998</th>\n",
       "      <td>Prep10000</td>\n",
       "      <td>50</td>\n",
       "      <td>2021-01-01</td>\n",
       "      <td>1</td>\n",
       "    </tr>\n",
       "    <tr>\n",
       "      <th>19999</th>\n",
       "      <td>Prep10000</td>\n",
       "      <td>26</td>\n",
       "      <td>2021-04-01</td>\n",
       "      <td>4</td>\n",
       "    </tr>\n",
       "    <tr>\n",
       "      <th>20000</th>\n",
       "      <td>Prep10000</td>\n",
       "      <td>43</td>\n",
       "      <td>2021-08-01</td>\n",
       "      <td>8</td>\n",
       "    </tr>\n",
       "    <tr>\n",
       "      <th>20001</th>\n",
       "      <td>Prep10001</td>\n",
       "      <td>40</td>\n",
       "      <td>2021-03-01</td>\n",
       "      <td>3</td>\n",
       "    </tr>\n",
       "    <tr>\n",
       "      <th>20002</th>\n",
       "      <td>Prep10001</td>\n",
       "      <td>24</td>\n",
       "      <td>2021-06-01</td>\n",
       "      <td>6</td>\n",
       "    </tr>\n",
       "  </tbody>\n",
       "</table>\n",
       "</div>"
      ],
      "text/plain": [
       "         Prepack  Boxes quantity        ETA  Month\n",
       "19998  Prep10000              50 2021-01-01      1\n",
       "19999  Prep10000              26 2021-04-01      4\n",
       "20000  Prep10000              43 2021-08-01      8\n",
       "20001  Prep10001              40 2021-03-01      3\n",
       "20002  Prep10001              24 2021-06-01      6"
      ]
     },
     "execution_count": 15,
     "metadata": {},
     "output_type": "execute_result"
    }
   ],
   "source": [
    "order_info_2021.head()"
   ]
  },
  {
   "cell_type": "markdown",
   "id": "4949d04e",
   "metadata": {},
   "source": [
    "Сгруппирум данные по препакам и выделим первый месяц:"
   ]
  },
  {
   "cell_type": "code",
   "execution_count": 16,
   "id": "6b204cba",
   "metadata": {},
   "outputs": [],
   "source": [
    "prep_data = order_info_2021.groupby('Prepack',as_index = False)\\\n",
    "    .agg({'Month':'min','Boxes quantity':'sum'})"
   ]
  },
  {
   "cell_type": "markdown",
   "id": "5d465bce",
   "metadata": {},
   "source": [
    "Удостоверимся, что месяцы выделены корректно:"
   ]
  },
  {
   "cell_type": "code",
   "execution_count": 17,
   "id": "0672fd30",
   "metadata": {},
   "outputs": [
    {
     "data": {
      "text/plain": [
       "array([ 1,  3,  7,  5,  2,  6,  4,  8,  9, 10], dtype=int64)"
      ]
     },
     "execution_count": 17,
     "metadata": {},
     "output_type": "execute_result"
    }
   ],
   "source": [
    "prep_data['Month'].unique()"
   ]
  },
  {
   "cell_type": "markdown",
   "id": "57a9a095",
   "metadata": {},
   "source": [
    "# Расчеты"
   ]
  },
  {
   "cell_type": "markdown",
   "id": "d70c6c98",
   "metadata": {},
   "source": [
    "Для выполнения задания, смерджим данные об артикулах и препаках:"
   ]
  },
  {
   "cell_type": "code",
   "execution_count": 18,
   "id": "b3f44967",
   "metadata": {},
   "outputs": [],
   "source": [
    "article_with_prepack = article_description.merge(prepack_description, on='Article', how='inner')"
   ]
  },
  {
   "cell_type": "code",
   "execution_count": 19,
   "id": "e516cf0c",
   "metadata": {},
   "outputs": [
    {
     "data": {
      "text/html": [
       "<div>\n",
       "<style scoped>\n",
       "    .dataframe tbody tr th:only-of-type {\n",
       "        vertical-align: middle;\n",
       "    }\n",
       "\n",
       "    .dataframe tbody tr th {\n",
       "        vertical-align: top;\n",
       "    }\n",
       "\n",
       "    .dataframe thead th {\n",
       "        text-align: right;\n",
       "    }\n",
       "</style>\n",
       "<table border=\"1\" class=\"dataframe\">\n",
       "  <thead>\n",
       "    <tr style=\"text-align: right;\">\n",
       "      <th></th>\n",
       "      <th>Article</th>\n",
       "      <th>Product Description</th>\n",
       "      <th>Prepack</th>\n",
       "      <th>Color</th>\n",
       "      <th>Pcs</th>\n",
       "    </tr>\n",
       "  </thead>\n",
       "  <tbody>\n",
       "    <tr>\n",
       "      <th>0</th>\n",
       "      <td>Art1</td>\n",
       "      <td>Trousers</td>\n",
       "      <td>Prep1</td>\n",
       "      <td>red</td>\n",
       "      <td>4</td>\n",
       "    </tr>\n",
       "    <tr>\n",
       "      <th>1</th>\n",
       "      <td>Art1</td>\n",
       "      <td>Trousers</td>\n",
       "      <td>Prep1</td>\n",
       "      <td>white</td>\n",
       "      <td>2</td>\n",
       "    </tr>\n",
       "    <tr>\n",
       "      <th>2</th>\n",
       "      <td>Art1</td>\n",
       "      <td>Trousers</td>\n",
       "      <td>Prep1</td>\n",
       "      <td>pink</td>\n",
       "      <td>6</td>\n",
       "    </tr>\n",
       "    <tr>\n",
       "      <th>3</th>\n",
       "      <td>Art2</td>\n",
       "      <td>Jeans</td>\n",
       "      <td>Prep2</td>\n",
       "      <td>red</td>\n",
       "      <td>2</td>\n",
       "    </tr>\n",
       "    <tr>\n",
       "      <th>4</th>\n",
       "      <td>Art2</td>\n",
       "      <td>Jeans</td>\n",
       "      <td>Prep2</td>\n",
       "      <td>white</td>\n",
       "      <td>6</td>\n",
       "    </tr>\n",
       "  </tbody>\n",
       "</table>\n",
       "</div>"
      ],
      "text/plain": [
       "  Article Product Description Prepack  Color  Pcs\n",
       "0    Art1            Trousers   Prep1    red    4\n",
       "1    Art1            Trousers   Prep1  white    2\n",
       "2    Art1            Trousers   Prep1   pink    6\n",
       "3    Art2               Jeans   Prep2    red    2\n",
       "4    Art2               Jeans   Prep2  white    6"
      ]
     },
     "execution_count": 19,
     "metadata": {},
     "output_type": "execute_result"
    }
   ],
   "source": [
    "article_with_prepack.head()"
   ]
  },
  {
   "cell_type": "code",
   "execution_count": 20,
   "id": "789bb1c9",
   "metadata": {},
   "outputs": [],
   "source": [
    "temp_df = article_with_prepack.groupby(['Color','Prepack','Product Description'],as_index=False)\\\n",
    "    .agg({'Article':'count', 'Pcs':'sum'})\\\n",
    "    .rename(columns={'Article':'Article_Color Count'})"
   ]
  },
  {
   "cell_type": "code",
   "execution_count": 21,
   "id": "5efbb392",
   "metadata": {},
   "outputs": [
    {
     "data": {
      "text/html": [
       "<div>\n",
       "<style scoped>\n",
       "    .dataframe tbody tr th:only-of-type {\n",
       "        vertical-align: middle;\n",
       "    }\n",
       "\n",
       "    .dataframe tbody tr th {\n",
       "        vertical-align: top;\n",
       "    }\n",
       "\n",
       "    .dataframe thead th {\n",
       "        text-align: right;\n",
       "    }\n",
       "</style>\n",
       "<table border=\"1\" class=\"dataframe\">\n",
       "  <thead>\n",
       "    <tr style=\"text-align: right;\">\n",
       "      <th></th>\n",
       "      <th>Color</th>\n",
       "      <th>Prepack</th>\n",
       "      <th>Product Description</th>\n",
       "      <th>Article_Color Count</th>\n",
       "      <th>Pcs</th>\n",
       "    </tr>\n",
       "  </thead>\n",
       "  <tbody>\n",
       "    <tr>\n",
       "      <th>0</th>\n",
       "      <td>beige</td>\n",
       "      <td>Prep10</td>\n",
       "      <td>Trousers</td>\n",
       "      <td>1</td>\n",
       "      <td>4</td>\n",
       "    </tr>\n",
       "    <tr>\n",
       "      <th>1</th>\n",
       "      <td>beige</td>\n",
       "      <td>Prep100</td>\n",
       "      <td>Trousers</td>\n",
       "      <td>1</td>\n",
       "      <td>2</td>\n",
       "    </tr>\n",
       "    <tr>\n",
       "      <th>2</th>\n",
       "      <td>beige</td>\n",
       "      <td>Prep10001</td>\n",
       "      <td>Dress</td>\n",
       "      <td>1</td>\n",
       "      <td>6</td>\n",
       "    </tr>\n",
       "    <tr>\n",
       "      <th>3</th>\n",
       "      <td>beige</td>\n",
       "      <td>Prep10004</td>\n",
       "      <td>Trousers</td>\n",
       "      <td>1</td>\n",
       "      <td>2</td>\n",
       "    </tr>\n",
       "    <tr>\n",
       "      <th>4</th>\n",
       "      <td>beige</td>\n",
       "      <td>Prep10005</td>\n",
       "      <td>Jeans</td>\n",
       "      <td>1</td>\n",
       "      <td>4</td>\n",
       "    </tr>\n",
       "  </tbody>\n",
       "</table>\n",
       "</div>"
      ],
      "text/plain": [
       "   Color    Prepack Product Description  Article_Color Count  Pcs\n",
       "0  beige     Prep10            Trousers                    1    4\n",
       "1  beige    Prep100            Trousers                    1    2\n",
       "2  beige  Prep10001               Dress                    1    6\n",
       "3  beige  Prep10004            Trousers                    1    2\n",
       "4  beige  Prep10005               Jeans                    1    4"
      ]
     },
     "execution_count": 21,
     "metadata": {},
     "output_type": "execute_result"
    }
   ],
   "source": [
    "temp_df.head()"
   ]
  },
  {
   "cell_type": "code",
   "execution_count": 22,
   "id": "19b898a7",
   "metadata": {},
   "outputs": [],
   "source": [
    "all_data = temp_df.merge(prep_data, on='Prepack', how='inner')"
   ]
  },
  {
   "cell_type": "markdown",
   "id": "b94364ac",
   "metadata": {},
   "source": [
    "Посчитаем количество штук в заказе:"
   ]
  },
  {
   "cell_type": "code",
   "execution_count": 23,
   "id": "be0fe7dd",
   "metadata": {},
   "outputs": [],
   "source": [
    "all_data['Order Pcs'] = all_data['Pcs'] * all_data['Boxes quantity']"
   ]
  },
  {
   "cell_type": "code",
   "execution_count": 24,
   "id": "f8245652",
   "metadata": {},
   "outputs": [
    {
     "data": {
      "text/html": [
       "<div>\n",
       "<style scoped>\n",
       "    .dataframe tbody tr th:only-of-type {\n",
       "        vertical-align: middle;\n",
       "    }\n",
       "\n",
       "    .dataframe tbody tr th {\n",
       "        vertical-align: top;\n",
       "    }\n",
       "\n",
       "    .dataframe thead th {\n",
       "        text-align: right;\n",
       "    }\n",
       "</style>\n",
       "<table border=\"1\" class=\"dataframe\">\n",
       "  <thead>\n",
       "    <tr style=\"text-align: right;\">\n",
       "      <th></th>\n",
       "      <th>Color</th>\n",
       "      <th>Prepack</th>\n",
       "      <th>Product Description</th>\n",
       "      <th>Article_Color Count</th>\n",
       "      <th>Pcs</th>\n",
       "      <th>Month</th>\n",
       "      <th>Boxes quantity</th>\n",
       "      <th>Order Pcs</th>\n",
       "    </tr>\n",
       "  </thead>\n",
       "  <tbody>\n",
       "    <tr>\n",
       "      <th>0</th>\n",
       "      <td>beige</td>\n",
       "      <td>Prep10001</td>\n",
       "      <td>Dress</td>\n",
       "      <td>1</td>\n",
       "      <td>6</td>\n",
       "      <td>3</td>\n",
       "      <td>111</td>\n",
       "      <td>666</td>\n",
       "    </tr>\n",
       "    <tr>\n",
       "      <th>1</th>\n",
       "      <td>blue</td>\n",
       "      <td>Prep10001</td>\n",
       "      <td>Dress</td>\n",
       "      <td>1</td>\n",
       "      <td>2</td>\n",
       "      <td>3</td>\n",
       "      <td>111</td>\n",
       "      <td>222</td>\n",
       "    </tr>\n",
       "    <tr>\n",
       "      <th>2</th>\n",
       "      <td>yellow</td>\n",
       "      <td>Prep10001</td>\n",
       "      <td>Dress</td>\n",
       "      <td>1</td>\n",
       "      <td>6</td>\n",
       "      <td>3</td>\n",
       "      <td>111</td>\n",
       "      <td>666</td>\n",
       "    </tr>\n",
       "    <tr>\n",
       "      <th>3</th>\n",
       "      <td>beige</td>\n",
       "      <td>Prep10004</td>\n",
       "      <td>Trousers</td>\n",
       "      <td>1</td>\n",
       "      <td>2</td>\n",
       "      <td>7</td>\n",
       "      <td>98</td>\n",
       "      <td>196</td>\n",
       "    </tr>\n",
       "    <tr>\n",
       "      <th>4</th>\n",
       "      <td>black</td>\n",
       "      <td>Prep10004</td>\n",
       "      <td>Trousers</td>\n",
       "      <td>1</td>\n",
       "      <td>2</td>\n",
       "      <td>7</td>\n",
       "      <td>98</td>\n",
       "      <td>196</td>\n",
       "    </tr>\n",
       "  </tbody>\n",
       "</table>\n",
       "</div>"
      ],
      "text/plain": [
       "    Color    Prepack Product Description  Article_Color Count  Pcs  Month  \\\n",
       "0   beige  Prep10001               Dress                    1    6      3   \n",
       "1    blue  Prep10001               Dress                    1    2      3   \n",
       "2  yellow  Prep10001               Dress                    1    6      3   \n",
       "3   beige  Prep10004            Trousers                    1    2      7   \n",
       "4   black  Prep10004            Trousers                    1    2      7   \n",
       "\n",
       "   Boxes quantity  Order Pcs  \n",
       "0             111        666  \n",
       "1             111        222  \n",
       "2             111        666  \n",
       "3              98        196  \n",
       "4              98        196  "
      ]
     },
     "execution_count": 24,
     "metadata": {},
     "output_type": "execute_result"
    }
   ],
   "source": [
    "all_data.head()"
   ]
  },
  {
   "cell_type": "markdown",
   "id": "45d81c0e",
   "metadata": {},
   "source": [
    "Далее сгруппируем по продукту, цвету и месяцу, чтобы посчитать сумму количества артикулов и количество товара в заказах: "
   ]
  },
  {
   "cell_type": "code",
   "execution_count": 25,
   "id": "64fd4d15",
   "metadata": {},
   "outputs": [
    {
     "data": {
      "text/html": [
       "<div>\n",
       "<style scoped>\n",
       "    .dataframe tbody tr th:only-of-type {\n",
       "        vertical-align: middle;\n",
       "    }\n",
       "\n",
       "    .dataframe tbody tr th {\n",
       "        vertical-align: top;\n",
       "    }\n",
       "\n",
       "    .dataframe thead th {\n",
       "        text-align: right;\n",
       "    }\n",
       "</style>\n",
       "<table border=\"1\" class=\"dataframe\">\n",
       "  <thead>\n",
       "    <tr style=\"text-align: right;\">\n",
       "      <th></th>\n",
       "      <th>Product Description</th>\n",
       "      <th>Color</th>\n",
       "      <th>Month</th>\n",
       "      <th>Order Pcs</th>\n",
       "      <th>Article_Color Count</th>\n",
       "    </tr>\n",
       "  </thead>\n",
       "  <tbody>\n",
       "    <tr>\n",
       "      <th>0</th>\n",
       "      <td>Dress</td>\n",
       "      <td>beige</td>\n",
       "      <td>1</td>\n",
       "      <td>9582</td>\n",
       "      <td>35</td>\n",
       "    </tr>\n",
       "    <tr>\n",
       "      <th>1</th>\n",
       "      <td>Dress</td>\n",
       "      <td>beige</td>\n",
       "      <td>2</td>\n",
       "      <td>11844</td>\n",
       "      <td>40</td>\n",
       "    </tr>\n",
       "    <tr>\n",
       "      <th>2</th>\n",
       "      <td>Dress</td>\n",
       "      <td>beige</td>\n",
       "      <td>3</td>\n",
       "      <td>14304</td>\n",
       "      <td>44</td>\n",
       "    </tr>\n",
       "    <tr>\n",
       "      <th>3</th>\n",
       "      <td>Dress</td>\n",
       "      <td>beige</td>\n",
       "      <td>4</td>\n",
       "      <td>7020</td>\n",
       "      <td>19</td>\n",
       "    </tr>\n",
       "    <tr>\n",
       "      <th>4</th>\n",
       "      <td>Dress</td>\n",
       "      <td>beige</td>\n",
       "      <td>5</td>\n",
       "      <td>6764</td>\n",
       "      <td>20</td>\n",
       "    </tr>\n",
       "    <tr>\n",
       "      <th>...</th>\n",
       "      <td>...</td>\n",
       "      <td>...</td>\n",
       "      <td>...</td>\n",
       "      <td>...</td>\n",
       "      <td>...</td>\n",
       "    </tr>\n",
       "    <tr>\n",
       "      <th>473</th>\n",
       "      <td>Trousers</td>\n",
       "      <td>yellow</td>\n",
       "      <td>6</td>\n",
       "      <td>6370</td>\n",
       "      <td>20</td>\n",
       "    </tr>\n",
       "    <tr>\n",
       "      <th>474</th>\n",
       "      <td>Trousers</td>\n",
       "      <td>yellow</td>\n",
       "      <td>7</td>\n",
       "      <td>4426</td>\n",
       "      <td>15</td>\n",
       "    </tr>\n",
       "    <tr>\n",
       "      <th>475</th>\n",
       "      <td>Trousers</td>\n",
       "      <td>yellow</td>\n",
       "      <td>8</td>\n",
       "      <td>1136</td>\n",
       "      <td>5</td>\n",
       "    </tr>\n",
       "    <tr>\n",
       "      <th>476</th>\n",
       "      <td>Trousers</td>\n",
       "      <td>yellow</td>\n",
       "      <td>9</td>\n",
       "      <td>1918</td>\n",
       "      <td>6</td>\n",
       "    </tr>\n",
       "    <tr>\n",
       "      <th>477</th>\n",
       "      <td>Trousers</td>\n",
       "      <td>yellow</td>\n",
       "      <td>10</td>\n",
       "      <td>1370</td>\n",
       "      <td>3</td>\n",
       "    </tr>\n",
       "  </tbody>\n",
       "</table>\n",
       "<p>478 rows × 5 columns</p>\n",
       "</div>"
      ],
      "text/plain": [
       "    Product Description   Color  Month  Order Pcs  Article_Color Count\n",
       "0                 Dress   beige      1       9582                   35\n",
       "1                 Dress   beige      2      11844                   40\n",
       "2                 Dress   beige      3      14304                   44\n",
       "3                 Dress   beige      4       7020                   19\n",
       "4                 Dress   beige      5       6764                   20\n",
       "..                  ...     ...    ...        ...                  ...\n",
       "473            Trousers  yellow      6       6370                   20\n",
       "474            Trousers  yellow      7       4426                   15\n",
       "475            Trousers  yellow      8       1136                    5\n",
       "476            Trousers  yellow      9       1918                    6\n",
       "477            Trousers  yellow     10       1370                    3\n",
       "\n",
       "[478 rows x 5 columns]"
      ]
     },
     "execution_count": 25,
     "metadata": {},
     "output_type": "execute_result"
    }
   ],
   "source": [
    "all_data.groupby(['Product Description', 'Color', 'Month'], as_index=False)\\\n",
    "    .agg({'Order Pcs':'sum', 'Article_Color Count':'sum'})"
   ]
  },
  {
   "cell_type": "markdown",
   "id": "816fecdb",
   "metadata": {},
   "source": [
    "Выведем полученные данные в таблицу Excel для других пользователей:"
   ]
  },
  {
   "cell_type": "code",
   "execution_count": 26,
   "id": "3bfdbee3",
   "metadata": {},
   "outputs": [],
   "source": [
    "all_data.to_excel(r'C:\\Users\\Julia\\Desktop\\mydata.xlsx', index= False)"
   ]
  },
  {
   "cell_type": "markdown",
   "id": "b585133d",
   "metadata": {},
   "source": [
    "# EDA"
   ]
  },
  {
   "cell_type": "markdown",
   "id": "17651ce9",
   "metadata": {},
   "source": [
    "Дополнительно проведем анализ полученных данных на предмет, какой продукт, цвет самый популярный и в какой месяц 2021 года было куплено максимальное количество товаров."
   ]
  },
  {
   "cell_type": "markdown",
   "id": "5ed514a6",
   "metadata": {},
   "source": [
    "Проанализируем вопрос о предпочетаемом покупателям продукте в 2021 году:"
   ]
  },
  {
   "cell_type": "code",
   "execution_count": 27,
   "id": "04a4f691",
   "metadata": {},
   "outputs": [],
   "source": [
    "most_populoar_product = all_data.groupby(['Product Description'], as_index=False)\\\n",
    "    .agg({'Order Pcs':'sum'})\\\n",
    "    .sort_values('Order Pcs', ascending = False)"
   ]
  },
  {
   "cell_type": "code",
   "execution_count": 28,
   "id": "908bb94c",
   "metadata": {},
   "outputs": [
    {
     "data": {
      "image/png": "[encoded data removed]"
     },
     "metadata": {},
     "output_type": "display_data"
    }
   ],
   "source": [
    "px.bar(most_populoar_product, x='Product Description', y='Order Pcs', title='Популярный продукт 2021 года')"
   ]
  },
  {
   "cell_type": "markdown",
   "id": "174341ba",
   "metadata": {},
   "source": [
    "Из данных графика установлено, что самым покупаемым продуктом нашего магазина являются Джинсы - 543 тыс. шт. за 2021 год."
   ]
  },
  {
   "cell_type": "markdown",
   "id": "07de0a82",
   "metadata": {},
   "source": [
    "Проанализируем вопрос о предпочетаемом покупателям цвете в 2021 году:"
   ]
  },
  {
   "cell_type": "code",
   "execution_count": 29,
   "id": "81ac5bfa",
   "metadata": {},
   "outputs": [],
   "source": [
    "most_populoar_color = all_data.groupby(['Color'], as_index=False)\\\n",
    "    .agg({'Order Pcs':'sum'})\\\n",
    "    .sort_values('Order Pcs', ascending = False)\\\n",
    "    .rename(columns={'Order Pcs':'Order_Pcs'})"
   ]
  },
  {
   "cell_type": "code",
   "execution_count": 30,
   "id": "90478d91",
   "metadata": {
    "scrolled": false
   },
   "outputs": [
    {
     "data": {
      "image/png": "[encoded data removed]",
      "text/plain": [
       "<Figure size 640x480 with 1 Axes>"
      ]
     },
     "metadata": {},
     "output_type": "display_data"
    }
   ],
   "source": [
    "labels = most_populoar_color.Color.value_counts().index\n",
    "sizes = most_populoar_color.Order_Pcs.value_counts().values\n",
    "fig1, ax1 = plt.subplots()\n",
    "ax1.pie(sizes, labels=labels, autopct='%1.2f%%',shadow=True, startangle=90)\n",
    "plt.show()"
   ]
  },
  {
   "cell_type": "markdown",
   "id": "55f0d128",
   "metadata": {},
   "source": [
    "Из данных пайплота можно предположить, что все цвета занимают одинаковую долю на рынке - 12.5%.\\\n",
    "Попробуем построить другой график для более детальной оценки:"
   ]
  },
  {
   "cell_type": "code",
   "execution_count": 31,
   "id": "0f3e895c",
   "metadata": {},
   "outputs": [
    {
     "data": {
      "image/png": "[encoded data removed]"
     },
     "metadata": {},
     "output_type": "display_data"
    }
   ],
   "source": [
    "px.bar(most_populoar_color, x='Color', y='Order_Pcs', title='Популярный цвет 2021 года')"
   ]
  },
  {
   "cell_type": "markdown",
   "id": "2948e2b4",
   "metadata": {},
   "source": [
    "Из данных барчарта установлено, что, преимущественно, покупатели предпочитают синий цвет в одежде, в том числе из-за популярности Джинс - 393 тыс. шт. "
   ]
  },
  {
   "cell_type": "markdown",
   "id": "1b5b4818",
   "metadata": {},
   "source": [
    "Проанализируем частоту покупок в Нашем магазине в 2021 году помесячно:"
   ]
  },
  {
   "cell_type": "code",
   "execution_count": 32,
   "id": "d15f19b8",
   "metadata": {},
   "outputs": [],
   "source": [
    "most_populoar_month = all_data.groupby(['Month'], as_index=False)\\\n",
    "    .agg({'Order Pcs':'sum'})\\\n",
    "    .sort_values('Month', ascending = True)"
   ]
  },
  {
   "cell_type": "code",
   "execution_count": 33,
   "id": "9b2bbead",
   "metadata": {},
   "outputs": [
    {
     "data": {
      "image/png": "[encoded data removed]"
     },
     "metadata": {},
     "output_type": "display_data"
    }
   ],
   "source": [
    "fig = px.line(most_populoar_month.reset_index(), x=\"Month\", y=\"Order Pcs\", title='Помесячная частота покупок в 2021 году')\n",
    "fig.show() "
   ]
  },
  {
   "cell_type": "markdown",
   "id": "8d0ab7c1",
   "metadata": {},
   "source": [
    "Из данных графика установлено, что к концу года продажи в магазине снижаются, но при этом в начале года зафиксирован самый высокий уровень спроса - 619 тыс. шт."
   ]
  }
 ],
 "metadata": {
  "kernelspec": {
   "display_name": "Python 3 (ipykernel)",
   "language": "python",
   "name": "python3"
  },
  "language_info": {
   "codemirror_mode": {
    "name": "ipython",
    "version": 3
   },
   "file_extension": ".py",
   "mimetype": "text/x-python",
   "name": "python",
   "nbconvert_exporter": "python",
   "pygments_lexer": "ipython3",
   "version": "3.10.9"
  }
 },
 "nbformat": 4,
 "nbformat_minor": 5
}
